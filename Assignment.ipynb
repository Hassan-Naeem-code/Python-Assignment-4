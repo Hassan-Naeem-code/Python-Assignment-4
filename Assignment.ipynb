{
 "cells": [
  {
   "cell_type": "code",
   "execution_count": 10,
   "id": "fd8d673d",
   "metadata": {},
   "outputs": [
    {
     "name": "stdout",
     "output_type": "stream",
     "text": [
      "Welcome To Calculator\n",
      "+ For Addition\n",
      "- For Subtraction\n",
      "* For Multiplication\n",
      "/ For Division\n",
      "Enter Your Choice/\n",
      "Enter First Number10\n",
      "Enter Second Number10\n",
      "Answer is 1.0\n",
      "Do you want to do next calculation then type YES or else NOno\n"
     ]
    }
   ],
   "source": [
    "# 1. Make a calculator using Python with addition , subtraction , multiplication ,division and power.\n",
    "def add(user_input1,user_input2):\n",
    "    return user_input1 + user_input2;\n",
    "def subtract(user_input1,user_input2):\n",
    "    return user_input1 - user_input2;\n",
    "def multiply(user_input1,user_input2):\n",
    "    return user_input1 * user_input2;\n",
    "def divide(user_input1,user_input2):\n",
    "    return user_input1 / user_input2;\n",
    "print('Welcome To Calculator');\n",
    "print('+ For Addition');\n",
    "print('- For Subtraction');\n",
    "print('* For Multiplication');\n",
    "print('/ For Division');\n",
    "while True:\n",
    "    choice = input('Enter Your Choice');\n",
    "    if choice in ('+','-','*','/'):\n",
    "        user_input_number_1 = float(input('Enter First Number'));\n",
    "        user_input_number_2 = float(input('Enter Second Number'));\n",
    "        if choice == '+':\n",
    "            print('Answer is',add(user_input_number_1,user_input_number_2));\n",
    "        elif choice == '-':\n",
    "            print('Answer is',subtract(user_input_number_1,user_input_number_2));\n",
    "        elif choice == '*':\n",
    "            print('Answer is',multiply(user_input_number_1,user_input_number_2));\n",
    "        elif choice == '/':\n",
    "            print('Answer is',divide(user_input_number_1,user_input_number_2));\n",
    "            next_calculation = input('Do you want to do next calculation then type YES or else NO');\n",
    "            if next_calculation == 'NO' or next_calculation == 'no':\n",
    "                break\n",
    "    else:\n",
    "        print('Invalid Input');"
   ]
  },
  {
   "cell_type": "code",
   "execution_count": 13,
   "id": "9c91982f",
   "metadata": {},
   "outputs": [
    {
     "name": "stdout",
     "output_type": "stream",
     "text": [
      "No Number Found In The List\n",
      "No Number Found In The List\n",
      "No Number Found In The List\n",
      "Number Found In The List And It Is: 1\n",
      "No Number Found In The List\n"
     ]
    }
   ],
   "source": [
    "# 2. Write a program to check if there is any numeric value in list using for loop.\n",
    "normal_list = ['Icecream','Zinger Burger','Lemon Soda',1,'Pepsi']\n",
    "for number in normal_list:\n",
    "    if number == 1 or number == 2 or number == 3 or number == 4 or number == 5 or number == 6 or number == 7 or number == 8 or number == 9:\n",
    "        print('Number Found In The List And It Is:',number);\n",
    "    else:\n",
    "        print('No Number Found In The List');"
   ]
  },
  {
   "cell_type": "code",
   "execution_count": 15,
   "id": "487f9f31",
   "metadata": {},
   "outputs": [
    {
     "name": "stdout",
     "output_type": "stream",
     "text": [
      "Dictionary Is: {'car_name': 'CIVIC', 'model': 2017, 'color': 'red', 'engines_no': '00AKH-1201-HGFT-100'}\n"
     ]
    }
   ],
   "source": [
    "# 3. Write a Python script to add a key to a dictionary.\n",
    "dictionary = {\n",
    "    'car_name':'CIVIC',\n",
    "    'model' : 2017,\n",
    "    'color': 'red'\n",
    "}\n",
    "dictionary['engines_no'] = '00AKH-1201-HGFT-100';\n",
    "print('Dictionary Is:',dictionary)"
   ]
  },
  {
   "cell_type": "code",
   "execution_count": 30,
   "id": "e0f173a9",
   "metadata": {},
   "outputs": [
    {
     "name": "stdout",
     "output_type": "stream",
     "text": [
      "Sum of the number 86\n"
     ]
    }
   ],
   "source": [
    "# 4. Write a Python program to sum all the numeric items in a dictionary.\n",
    "temporary_variable = 0;\n",
    "dictionary = {'number1':100,'number2':-54,'number3':40}\n",
    "for key,values in dictionary.items():\n",
    "        temporary_variable = values + temporary_variable;\n",
    "print('Sum of the number',temporary_variable);"
   ]
  },
  {
   "cell_type": "code",
   "execution_count": 47,
   "id": "9533b4b8",
   "metadata": {},
   "outputs": [
    {
     "name": "stdout",
     "output_type": "stream",
     "text": [
      "Clutter Array ['Car', 'Bike', 'Car', 'Laptop', 'Computer', 'Internet', 'Bike', 'Laptop']\n",
      "Duplicate Values are: Car\n",
      "Duplicate Values are: Bike\n",
      "Duplicate Values are: Laptop\n"
     ]
    }
   ],
   "source": [
    "# 5. Write a program to identify duplicate values from list.\n",
    "static_list = ['Car','Bike','Car','Laptop','Computer','Internet','Bike','Laptop'];\n",
    "duplicate_value = [];\n",
    "print('Clutter Array',static_list);\n",
    "for value in static_list:\n",
    "    if value not in duplicate_value:\n",
    "        duplicate_value.append(value);\n",
    "    else:\n",
    "        print('Duplicate Values are:',value);"
   ]
  },
  {
   "cell_type": "code",
   "execution_count": 50,
   "id": "865fb4fc",
   "metadata": {},
   "outputs": [
    {
     "name": "stdout",
     "output_type": "stream",
     "text": [
      "Key Present In The Dictionary\n",
      "Key Not Present In The Dictionary\n"
     ]
    }
   ],
   "source": [
    "# 6. Write a Python script to check if a given key already exists in a dictionary\n",
    "dictionary = {'value1':5,'value2':10,'value3':15,'value4':20,'value5':25}\n",
    "def checkKeyPresence(key):\n",
    "    if key in dictionary:\n",
    "        print('Key Present In The Dictionary');\n",
    "    else:\n",
    "        print('Key Not Present In The Dictionary');\n",
    "checkKeyPresence('value5');\n",
    "checkKeyPresence(30);"
   ]
  },
  {
   "cell_type": "code",
   "execution_count": null,
   "id": "6202987c",
   "metadata": {},
   "outputs": [],
   "source": []
  }
 ],
 "metadata": {
  "kernelspec": {
   "display_name": "Python 3",
   "language": "python",
   "name": "python3"
  },
  "language_info": {
   "codemirror_mode": {
    "name": "ipython",
    "version": 3
   },
   "file_extension": ".py",
   "mimetype": "text/x-python",
   "name": "python",
   "nbconvert_exporter": "python",
   "pygments_lexer": "ipython3",
   "version": "3.8.8"
  }
 },
 "nbformat": 4,
 "nbformat_minor": 5
}
